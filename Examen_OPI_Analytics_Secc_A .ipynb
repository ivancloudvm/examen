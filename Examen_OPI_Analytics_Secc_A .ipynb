{
 "cells": [
  {
   "cell_type": "markdown",
   "metadata": {},
   "source": [
    "Iván Vázquez Martínez\n",
    "\n",
    "# Examen OPI Analytics\n",
    "\n",
    "## Sección A"
   ]
  },
  {
   "cell_type": "markdown",
   "metadata": {},
   "source": [
    "### 1. ¿Qué pruebas identificarías para asegurar la calidad de estos datos? "
   ]
  },
  {
   "cell_type": "markdown",
   "metadata": {},
   "source": [
    "1. Primero usar el metodo info sobre el dataframe para saber cuantas filas contiene el df y de qué tipo de dato es cada columna\n",
    "2. Usar el metodo head() para observar algunos datos del dataframe para familiarizarse con los datos.\n",
    "3. Usar el metodo isnull().sum() para saber la cantidad de datos faltantes en cada columna.\n",
    "4. De acuerdo al paso anterior, decidir un método para lidiar con los valores faltantes en cada columna.\n",
    "5. Cambiar el tipo de dato de las columnas para que se pueda trabajar con los datos con mayor facilidad.\n",
    "6. Checar que no haya datos string repetidos o con pequeñas diferencias (espacios en blanco antes y despues de las palabras, por ejemplo)\n"
   ]
  },
  {
   "cell_type": "markdown",
   "metadata": {},
   "source": [
    "Importamos los datos (descargados de manera local):"
   ]
  },
  {
   "cell_type": "code",
   "execution_count": 23,
   "metadata": {
    "scrolled": true
   },
   "outputs": [
    {
     "data": {
      "text/html": [
       "<div>\n",
       "<style scoped>\n",
       "    .dataframe tbody tr th:only-of-type {\n",
       "        vertical-align: middle;\n",
       "    }\n",
       "\n",
       "    .dataframe tbody tr th {\n",
       "        vertical-align: top;\n",
       "    }\n",
       "\n",
       "    .dataframe thead th {\n",
       "        text-align: right;\n",
       "    }\n",
       "</style>\n",
       "<table border=\"1\" class=\"dataframe\">\n",
       "  <thead>\n",
       "    <tr style=\"text-align: right;\">\n",
       "      <th></th>\n",
       "      <th>ao_hechos</th>\n",
       "      <th>mes_hechos</th>\n",
       "      <th>fecha_hechos</th>\n",
       "      <th>ao_inicio</th>\n",
       "      <th>mes_inicio</th>\n",
       "      <th>fecha_inicio</th>\n",
       "      <th>delito</th>\n",
       "      <th>fiscalia</th>\n",
       "      <th>agencia</th>\n",
       "      <th>unidad_investigacion</th>\n",
       "      <th>categoria_delito</th>\n",
       "      <th>calle_hechos</th>\n",
       "      <th>calle_hechos2</th>\n",
       "      <th>colonia_hechos</th>\n",
       "      <th>alcaldia_hechos</th>\n",
       "      <th>competencia</th>\n",
       "      <th>longitud</th>\n",
       "      <th>latitud</th>\n",
       "    </tr>\n",
       "  </thead>\n",
       "  <tbody>\n",
       "    <tr>\n",
       "      <th>0</th>\n",
       "      <td>2016.0</td>\n",
       "      <td>Enero</td>\n",
       "      <td>2016-01-31 22:16:00</td>\n",
       "      <td>2016</td>\n",
       "      <td>Febrero</td>\n",
       "      <td>2016-02-01 00:25:44</td>\n",
       "      <td>DAÑO EN PROPIEDAD AJENA INTENCIONAL</td>\n",
       "      <td>INVESTIGACIÓN EN BENITO JUÁREZ</td>\n",
       "      <td>BJ-2</td>\n",
       "      <td>UI-3CD</td>\n",
       "      <td>DELITO DE BAJO IMPACTO</td>\n",
       "      <td>CALZ. DE TLALPAN</td>\n",
       "      <td>LAGO PTE.</td>\n",
       "      <td>AMÉRICAS UNIDAS</td>\n",
       "      <td>BENITO JUAREZ</td>\n",
       "      <td>NaN</td>\n",
       "      <td>-99.140215</td>\n",
       "      <td>19.380315</td>\n",
       "    </tr>\n",
       "    <tr>\n",
       "      <th>1</th>\n",
       "      <td>2016.0</td>\n",
       "      <td>Enero</td>\n",
       "      <td>2016-01-31 20:50:00</td>\n",
       "      <td>2016</td>\n",
       "      <td>Febrero</td>\n",
       "      <td>2016-02-01 00:52:37</td>\n",
       "      <td>ROBO DE VEHICULO DE SERVICIO PARTICULAR CON VI...</td>\n",
       "      <td>INVESTIGACIÓN PARA LA ATENCIÓN DEL DELITO DE R...</td>\n",
       "      <td>ORIENTEII</td>\n",
       "      <td>UI-3CD</td>\n",
       "      <td>ROBO DE VEHÍCULO CON Y SIN VIOLENCIA</td>\n",
       "      <td>SUR 25 A</td>\n",
       "      <td>GRANJEROS</td>\n",
       "      <td>LOS CIPRESES</td>\n",
       "      <td>IZTAPALAPA</td>\n",
       "      <td>NaN</td>\n",
       "      <td>-99.108403</td>\n",
       "      <td>19.352859</td>\n",
       "    </tr>\n",
       "    <tr>\n",
       "      <th>2</th>\n",
       "      <td>2016.0</td>\n",
       "      <td>Febrero</td>\n",
       "      <td>2016-02-01 00:30:00</td>\n",
       "      <td>2016</td>\n",
       "      <td>Febrero</td>\n",
       "      <td>2016-02-01 01:33:26</td>\n",
       "      <td>NARCOMENUDEO POSESION SIMPLE</td>\n",
       "      <td>INVESTIGACIÓN PARA LA ATENCIÓN DE NIÑOS, NIÑAS...</td>\n",
       "      <td>57</td>\n",
       "      <td>UI-3CD</td>\n",
       "      <td>DELITO DE BAJO IMPACTO</td>\n",
       "      <td>BATALLONES ROJOS</td>\n",
       "      <td>NaN</td>\n",
       "      <td>UNIDAD VICENTE GUERRERO</td>\n",
       "      <td>IZTAPALAPA</td>\n",
       "      <td>NaN</td>\n",
       "      <td>-99.061321</td>\n",
       "      <td>19.356451</td>\n",
       "    </tr>\n",
       "    <tr>\n",
       "      <th>3</th>\n",
       "      <td>2016.0</td>\n",
       "      <td>Enero</td>\n",
       "      <td>2016-01-31 22:00:00</td>\n",
       "      <td>2016</td>\n",
       "      <td>Febrero</td>\n",
       "      <td>2016-02-01 02:09:11</td>\n",
       "      <td>ROBO A TRANSEUNTE EN VIA PUBLICA CON VIOLENCIA</td>\n",
       "      <td>INVESTIGACIÓN EN IZTAPALAPA</td>\n",
       "      <td>IZP-6</td>\n",
       "      <td>UI-3CD</td>\n",
       "      <td>ROBO A TRANSEUNTE EN VÍA PÚBLICA CON Y SIN VIO...</td>\n",
       "      <td>GERANIO</td>\n",
       "      <td>GAVILLEROS</td>\n",
       "      <td>EMILIANO ZAPATA</td>\n",
       "      <td>IZTAPALAPA</td>\n",
       "      <td>NaN</td>\n",
       "      <td>-98.976379</td>\n",
       "      <td>19.331633</td>\n",
       "    </tr>\n",
       "    <tr>\n",
       "      <th>4</th>\n",
       "      <td>2015.0</td>\n",
       "      <td>Diciembre</td>\n",
       "      <td>2015-12-25 12:00:00</td>\n",
       "      <td>2016</td>\n",
       "      <td>Febrero</td>\n",
       "      <td>2016-02-01 02:16:49</td>\n",
       "      <td>DENUNCIA DE HECHOS</td>\n",
       "      <td>INVESTIGACIÓN EN BENITO JUÁREZ</td>\n",
       "      <td>BJ-1</td>\n",
       "      <td>UI-3SD</td>\n",
       "      <td>HECHO NO DELICTIVO</td>\n",
       "      <td>SAN FRANCISCO</td>\n",
       "      <td>AVENIDA COLONIA DEL VALLE</td>\n",
       "      <td>DEL VALLE CENTRO</td>\n",
       "      <td>BENITO JUAREZ</td>\n",
       "      <td>NaN</td>\n",
       "      <td>-99.172189</td>\n",
       "      <td>19.387114</td>\n",
       "    </tr>\n",
       "  </tbody>\n",
       "</table>\n",
       "</div>"
      ],
      "text/plain": [
       "   ao_hechos mes_hechos         fecha_hechos  ao_inicio mes_inicio  \\\n",
       "0     2016.0      Enero  2016-01-31 22:16:00       2016    Febrero   \n",
       "1     2016.0      Enero  2016-01-31 20:50:00       2016    Febrero   \n",
       "2     2016.0    Febrero  2016-02-01 00:30:00       2016    Febrero   \n",
       "3     2016.0      Enero  2016-01-31 22:00:00       2016    Febrero   \n",
       "4     2015.0  Diciembre  2015-12-25 12:00:00       2016    Febrero   \n",
       "\n",
       "          fecha_inicio                                             delito  \\\n",
       "0  2016-02-01 00:25:44                DAÑO EN PROPIEDAD AJENA INTENCIONAL   \n",
       "1  2016-02-01 00:52:37  ROBO DE VEHICULO DE SERVICIO PARTICULAR CON VI...   \n",
       "2  2016-02-01 01:33:26                       NARCOMENUDEO POSESION SIMPLE   \n",
       "3  2016-02-01 02:09:11     ROBO A TRANSEUNTE EN VIA PUBLICA CON VIOLENCIA   \n",
       "4  2016-02-01 02:16:49                                 DENUNCIA DE HECHOS   \n",
       "\n",
       "                                            fiscalia    agencia  \\\n",
       "0                     INVESTIGACIÓN EN BENITO JUÁREZ       BJ-2   \n",
       "1  INVESTIGACIÓN PARA LA ATENCIÓN DEL DELITO DE R...  ORIENTEII   \n",
       "2  INVESTIGACIÓN PARA LA ATENCIÓN DE NIÑOS, NIÑAS...         57   \n",
       "3                        INVESTIGACIÓN EN IZTAPALAPA      IZP-6   \n",
       "4                     INVESTIGACIÓN EN BENITO JUÁREZ       BJ-1   \n",
       "\n",
       "  unidad_investigacion                                   categoria_delito  \\\n",
       "0               UI-3CD                             DELITO DE BAJO IMPACTO   \n",
       "1               UI-3CD               ROBO DE VEHÍCULO CON Y SIN VIOLENCIA   \n",
       "2               UI-3CD                             DELITO DE BAJO IMPACTO   \n",
       "3               UI-3CD  ROBO A TRANSEUNTE EN VÍA PÚBLICA CON Y SIN VIO...   \n",
       "4               UI-3SD                                 HECHO NO DELICTIVO   \n",
       "\n",
       "       calle_hechos              calle_hechos2           colonia_hechos  \\\n",
       "0  CALZ. DE TLALPAN                  LAGO PTE.          AMÉRICAS UNIDAS   \n",
       "1          SUR 25 A                  GRANJEROS             LOS CIPRESES   \n",
       "2  BATALLONES ROJOS                        NaN  UNIDAD VICENTE GUERRERO   \n",
       "3           GERANIO                 GAVILLEROS          EMILIANO ZAPATA   \n",
       "4     SAN FRANCISCO  AVENIDA COLONIA DEL VALLE         DEL VALLE CENTRO   \n",
       "\n",
       "  alcaldia_hechos competencia   longitud    latitud  \n",
       "0   BENITO JUAREZ         NaN -99.140215  19.380315  \n",
       "1      IZTAPALAPA         NaN -99.108403  19.352859  \n",
       "2      IZTAPALAPA         NaN -99.061321  19.356451  \n",
       "3      IZTAPALAPA         NaN -98.976379  19.331633  \n",
       "4   BENITO JUAREZ         NaN -99.172189  19.387114  "
      ]
     },
     "execution_count": 23,
     "metadata": {},
     "output_type": "execute_result"
    }
   ],
   "source": [
    "import pandas as pd\n",
    "url = \"https://archivo.datos.cdmx.gob.mx/carpetas_completa_2016_2020.csv\"\n",
    "path = r\"C:\\Users\\sephc\\Python\\carpetas_completa_2016_2020.csv\"\n",
    "df = pd.read_csv(path,engine='python',encoding = \"utf-8\")\n",
    "\n",
    "df.head(5)"
   ]
  },
  {
   "cell_type": "code",
   "execution_count": 30,
   "metadata": {},
   "outputs": [
    {
     "name": "stdout",
     "output_type": "stream",
     "text": [
      "<class 'pandas.core.frame.DataFrame'>\n",
      "RangeIndex: 1151850 entries, 0 to 1151849\n",
      "Data columns (total 18 columns):\n",
      " #   Column                Non-Null Count    Dtype  \n",
      "---  ------                --------------    -----  \n",
      " 0   ao_hechos             1151417 non-null  float64\n",
      " 1   mes_hechos            1151417 non-null  object \n",
      " 2   fecha_hechos          1151417 non-null  object \n",
      " 3   ao_inicio             1151850 non-null  int64  \n",
      " 4   mes_inicio            1151850 non-null  object \n",
      " 5   fecha_inicio          1151850 non-null  object \n",
      " 6   delito                1151850 non-null  object \n",
      " 7   fiscalia              1151848 non-null  object \n",
      " 8   agencia               1151850 non-null  object \n",
      " 9   unidad_investigacion  1151623 non-null  object \n",
      " 10  categoria_delito      1151850 non-null  object \n",
      " 11  calle_hechos          1148903 non-null  object \n",
      " 12  calle_hechos2         453177 non-null   object \n",
      " 13  colonia_hechos        1105064 non-null  object \n",
      " 14  alcaldia_hechos       1148704 non-null  object \n",
      " 15  competencia           219917 non-null   object \n",
      " 16  longitud              1106031 non-null  float64\n",
      " 17  latitud               1106032 non-null  float64\n",
      "dtypes: float64(3), int64(1), object(14)\n",
      "memory usage: 158.2+ MB\n"
     ]
    }
   ],
   "source": [
    "df.info()"
   ]
  },
  {
   "cell_type": "markdown",
   "metadata": {},
   "source": [
    "Podemos hacer varias cosas para mejorar la calidad de estos datos:\n",
    "\n",
    "1. Crear columnas donde se indiquen los meses y años en tipo fecha\n",
    "\n",
    "2. Quitar filas que no tienen fecha_hechos ya que sin ese dato no podemos hacer un analisis temporal y no podemos inferir esa fecha\n",
    "\n",
    "3. Columnas_fechas = [\"fecha_hechos\",\"fecha_inicio\"] convertir estas columnas a tipo datetime."
   ]
  },
  {
   "cell_type": "markdown",
   "metadata": {},
   "source": [
    "### 2. ¿Cuántos delitos registrados hay en la tabla? ¿Qué rango de tiempo consideran los datos?"
   ]
  },
  {
   "cell_type": "markdown",
   "metadata": {},
   "source": [
    "Aquí se consideran todas las filas del dataset inicial:"
   ]
  },
  {
   "cell_type": "code",
   "execution_count": 33,
   "metadata": {},
   "outputs": [
    {
     "name": "stdout",
     "output_type": "stream",
     "text": [
      "Delitos registrados:  1151850\n",
      "El rango de tiempo que se considera en cada delito es la fecha de los hechos (aproximada o exacta) y la fecha de registro del delito\n"
     ]
    }
   ],
   "source": [
    "print(\"Delitos registrados: \",df.shape[0])\n",
    "\n",
    "print(\"El rango de tiempo que se considera en cada delito es la fecha de los hechos (aproximada o exacta) y la fecha de registro del delito\")"
   ]
  },
  {
   "cell_type": "markdown",
   "metadata": {},
   "source": [
    "### 3. ¿Cómo se distribuye el número de delitos en la CDMX? ¿Cuáles son los 5 delitos más frecuentes?"
   ]
  },
  {
   "cell_type": "code",
   "execution_count": 40,
   "metadata": {
    "scrolled": false
   },
   "outputs": [
    {
     "data": {
      "text/plain": [
       "341"
      ]
     },
     "execution_count": 40,
     "metadata": {},
     "output_type": "execute_result"
    }
   ],
   "source": [
    "#delitos diferentes registrados:\n",
    "delitos = df[\"delito\"].unique().tolist()\n",
    "len(delitos)\n"
   ]
  },
  {
   "cell_type": "markdown",
   "metadata": {},
   "source": [
    "Notemos que se registran delitos en municipios fuera de CDMX:"
   ]
  },
  {
   "cell_type": "code",
   "execution_count": 60,
   "metadata": {
    "scrolled": true
   },
   "outputs": [
    {
     "data": {
      "text/plain": [
       "['BENITO JUAREZ',\n",
       " 'IZTAPALAPA',\n",
       " 'CUAUHTEMOC',\n",
       " 'TLAHUAC',\n",
       " 'IZTACALCO',\n",
       " 'GUSTAVO A MADERO',\n",
       " 'MIGUEL HIDALGO',\n",
       " 'TLALPAN',\n",
       " 'ALVARO OBREGON',\n",
       " 'VENUSTIANO CARRANZA',\n",
       " 'AZCAPOTZALCO',\n",
       " 'CUAJIMALPA DE MORELOS',\n",
       " 'COYOACAN',\n",
       " 'XOCHIMILCO',\n",
       " 'LA MAGDALENA CONTRERAS',\n",
       " 'MILPA ALTA',\n",
       " 'TLALNEPANTLA DE BAZ',\n",
       " 'VERACRUZ',\n",
       " 'IXCATEOPAN DE CUAUHTEMOC',\n",
       " 'TUXPAM',\n",
       " 'HUIXQUILUCAN',\n",
       " 'OCOYOACAC',\n",
       " 'ECATEPEC DE MORELOS',\n",
       " nan,\n",
       " 'SIN DATO',\n",
       " 'TULTEPEC',\n",
       " 'ACATZINGO',\n",
       " 'GUELATAO DE JUAREZ',\n",
       " 'HERMOSILLO',\n",
       " 'ENSENADA',\n",
       " 'IXTAPALUCA',\n",
       " 'NAUCALPAN DE JUAREZ',\n",
       " 'NEZAHUALCOYOTL',\n",
       " 'CHALCO',\n",
       " 'TLATLAYA',\n",
       " 'SAN JUAN GUICHICOVI',\n",
       " 'ZAPOPAN',\n",
       " 'SAN PEDRO IXTLAHUACA',\n",
       " 'NICOLAS ROMERO',\n",
       " 'VICTORIA',\n",
       " 'CULIACAN',\n",
       " 'VALLE DE CHALCO SOLIDARIDAD',\n",
       " 'TIANGUISTENCO',\n",
       " 'TEHUACAN',\n",
       " 'ACAPULCO DE JUAREZ',\n",
       " 'TEMASCALCINGO',\n",
       " 'CUAUTITLAN IZCALLI',\n",
       " 'TIJUANA',\n",
       " 'CUERNAVACA',\n",
       " 'TENANGO DEL VALLE',\n",
       " 'TULANCINGO DE BRAVO',\n",
       " 'CORREGIDORA',\n",
       " 'JUAREZ HIDALGO',\n",
       " 'CELAYA',\n",
       " 'CHICOLOAPAN',\n",
       " 'ATIZAPAN DE ZARAGOZA',\n",
       " 'TOLUCA',\n",
       " 'TORREON',\n",
       " 'TULTITLAN',\n",
       " 'BATOPILAS',\n",
       " 'MERIDA',\n",
       " 'HUEHUETOCA',\n",
       " 'CHIMALHUACAN',\n",
       " 'IGUALAPA',\n",
       " 'LA PAZ',\n",
       " 'AMECAMECA',\n",
       " 'ATIZAPAN',\n",
       " 'PINAL DE AMOLES',\n",
       " 'MONTERREY',\n",
       " 'CUITLAHUAC',\n",
       " 'TECAMAC',\n",
       " 'MEXICALI',\n",
       " 'MATIAS ROMERO',\n",
       " 'CORDOBA',\n",
       " 'TANCITARO',\n",
       " 'DURANGO',\n",
       " 'ATENCO',\n",
       " 'SAN SALVADOR',\n",
       " 'PUEBLA',\n",
       " 'GUANAJUATO',\n",
       " 'LEON',\n",
       " 'APIZACO',\n",
       " 'VILLA DE ZAACHILA',\n",
       " 'LERMA',\n",
       " 'TLANEPANTLA',\n",
       " 'CUAUTEPEC',\n",
       " 'COLON',\n",
       " 'CADEREYTA JIMENEZ',\n",
       " 'HUAMANTLA',\n",
       " 'TEPIC',\n",
       " 'SANTIAGO YOSONDUA',\n",
       " 'SAN PEDRO GARZA GARCIA',\n",
       " 'MINERAL DE LA REFORMA',\n",
       " 'TEXCOCO',\n",
       " 'NUEVO LAREDO',\n",
       " 'CUAUTITLAN',\n",
       " 'JOQUICINGO',\n",
       " 'OAXACA DE JUAREZ',\n",
       " 'AGUASCALIENTES',\n",
       " 'ACOLMAN',\n",
       " 'MANZANILLO',\n",
       " 'SAN FRANCISCO DEL RINCON',\n",
       " 'METEPEC',\n",
       " 'PUERTO VALLARTA',\n",
       " 'ZUMPANGO',\n",
       " 'TOLCAYUCA',\n",
       " 'CHILPANCINGO DE LOS BRAVO',\n",
       " 'CORTAZAR',\n",
       " 'COACALCO DE BERRIOZABAL',\n",
       " 'PAPALOTLA DE XICOHTENCATL',\n",
       " 'TLAXCALA',\n",
       " 'SANTA ANA MAYA',\n",
       " 'OTUMBA',\n",
       " 'SALAMANCA',\n",
       " 'SOLIDARIDAD',\n",
       " 'ISLA MUJERES',\n",
       " 'ZINAPECUARO',\n",
       " 'SAN MATEO ATENCO',\n",
       " 'MORELIA',\n",
       " 'TIZAYUCA',\n",
       " 'TEOTIHUACAN',\n",
       " 'GUADALUPE',\n",
       " 'TEMAMATLA',\n",
       " 'COLIMA',\n",
       " 'GUAYMAS',\n",
       " 'COMONDU',\n",
       " 'VILLA DEL CARBON',\n",
       " 'VALLE DE BRAVO',\n",
       " 'ALVARADO',\n",
       " 'CAJEME',\n",
       " 'TENANCINGO',\n",
       " 'SAHUAYO',\n",
       " 'TEMIXCO',\n",
       " 'JOJUTLA',\n",
       " 'TETELA DE OCAMPO',\n",
       " 'ZIHUATANEJO DE  AZUETA',\n",
       " 'REYNOSA',\n",
       " 'PACHUCA DE SOTO',\n",
       " 'SAN LUIS POTOSI',\n",
       " 'TAXCO DE ALARCON',\n",
       " 'SILAO',\n",
       " 'ALMOLOYA DE JUAREZ',\n",
       " 'JILOTEPEC',\n",
       " 'PURISIMA DEL RINCON',\n",
       " 'LA UNION DE ISIDORO MONTES DE OCA',\n",
       " 'AMAXAC DE GUERRERO',\n",
       " 'MALINALCO',\n",
       " 'ARROYO SECO',\n",
       " 'AGUA DULCE',\n",
       " 'NACAJUCA',\n",
       " 'ZITACUARO',\n",
       " 'ZAUTLA',\n",
       " 'CUAUTLA',\n",
       " 'CALIMAYA',\n",
       " 'AMANALCO',\n",
       " 'ZACATECAS',\n",
       " 'POZA RICA DE HIDALGO',\n",
       " 'HUATABAMPO',\n",
       " 'JUCHITEPEC',\n",
       " 'PASO DEL MACHO',\n",
       " 'GOMEZ PALACIO',\n",
       " 'MIGUEL ALEMAN',\n",
       " 'FELIPE CARRILLO PUERTO',\n",
       " 'XALAPA',\n",
       " 'BOCOYNA',\n",
       " 'PUENTE DE IXTLA',\n",
       " 'COMITAN DE DOMINGUEZ',\n",
       " 'TLALNEPANTLA',\n",
       " 'TELOLOAPAN',\n",
       " 'XOCHITEPEC',\n",
       " 'XALATLACO',\n",
       " 'AYAPANGO',\n",
       " 'TEPETLAOXTOC',\n",
       " 'ZAPOTLAN DE JUAREZ',\n",
       " 'HUITZILAC',\n",
       " 'AMEALCO DE BONFIL',\n",
       " 'ATOYAC DE ALVAREZ',\n",
       " 'SAN ANDRES CHOLULA',\n",
       " 'EDUARDO NERI',\n",
       " 'TEZOYUCA',\n",
       " 'TEOLOYUCAN',\n",
       " 'EL BOSQUE',\n",
       " 'YECAPIXTLA',\n",
       " 'EL ORO',\n",
       " 'TECOZAUTLA',\n",
       " 'ORIZABA',\n",
       " 'LA PIEDAD',\n",
       " 'MELCHOR OCAMPO',\n",
       " 'JALTIPAN',\n",
       " 'TLAYACAPAN',\n",
       " 'JOCOTITLAN',\n",
       " 'QUERETARO',\n",
       " 'GUADALAJARA',\n",
       " 'CALVILLO',\n",
       " 'SANTA MARIA COLOTEPEC',\n",
       " 'BOCA DEL RIO',\n",
       " 'JIUTEPEC',\n",
       " 'URUAPAN',\n",
       " 'IRAPUATO',\n",
       " 'JALACINGO',\n",
       " 'TULA DE ALLENDE',\n",
       " 'EPAZOYUCAN',\n",
       " 'TLACHICHILCO',\n",
       " 'ZACATELCO',\n",
       " 'TAPALPA',\n",
       " 'SAN MARTIN TEXMELUCAN',\n",
       " 'TLALTIZAPAN',\n",
       " 'VILLAHERMOSA O CENTRO',\n",
       " 'ATLACOMULCO',\n",
       " 'NOPALTEPEC',\n",
       " 'APASEO EL GRANDE',\n",
       " 'TAPACHULA',\n",
       " 'VALLE DE SANTIAGO',\n",
       " 'TEOCALTICHE',\n",
       " 'SAN JOSE DEL RINCON',\n",
       " 'ARMERIA',\n",
       " 'ATLATLAHUCAN',\n",
       " 'SULTEPEC',\n",
       " 'TEPOZTLAN',\n",
       " 'JALTENCO',\n",
       " 'SANTIAGO DE ANAYA',\n",
       " 'VILLA VICTORIA',\n",
       " 'AXAPUSCO',\n",
       " 'EBANO',\n",
       " 'TEPETITLA DE LARDIZABAL',\n",
       " 'ZACAPU',\n",
       " 'SAN NICOLAS DE LOS GARZA',\n",
       " 'TEPOTZOTLAN',\n",
       " 'SANTA MARIA HUATULCO',\n",
       " 'LOS CABOS',\n",
       " 'TLALMANALCO',\n",
       " 'IXTAPAN DEL ORO',\n",
       " 'SALVADOR ALVARADO',\n",
       " 'RODEO',\n",
       " 'ATLIXCO',\n",
       " 'ABALA',\n",
       " 'TEPECOACUILCO DE TRUJANO',\n",
       " 'SAN JUAN DEL RIO',\n",
       " 'PARAISO',\n",
       " 'ZACAPOAXTLA',\n",
       " 'KANASIN',\n",
       " 'CHAMPOTON',\n",
       " 'ELOXOCHITLAN DE FLORES MAGON',\n",
       " 'IXTLAHUACA',\n",
       " 'TONALA',\n",
       " 'HUIMANGUILLO',\n",
       " 'SAN LUIS DE LA PAZ',\n",
       " 'IZUCAR DE MATAMOROS',\n",
       " 'EZEQUIEL MONTES',\n",
       " 'CARDENAS',\n",
       " 'SAN JUAN BAUTISTA TUXTEPEC',\n",
       " 'CALNALI',\n",
       " 'CARDONAL',\n",
       " 'TENANGO DEL AIRE',\n",
       " 'TLAPACOYAN',\n",
       " 'SALINA CRUZ',\n",
       " 'ALLENDE',\n",
       " 'FRESNILLO',\n",
       " 'TIHUATLAN',\n",
       " 'ENCARNACION DE DIAZ',\n",
       " 'CADEREYTA DE MONTES',\n",
       " 'JALPAN DE SERRA',\n",
       " 'DOLORES HIDALGO',\n",
       " 'EL CARMEN TEQUEXQUITLA',\n",
       " 'ALMOLOYA DE ALQUISIRAS',\n",
       " 'TLAPEHUALA',\n",
       " 'TEQUIXQUIAC',\n",
       " 'JOSE MARIA MORELOS',\n",
       " 'EMILIANO ZAPATA',\n",
       " 'HUEHUETLA',\n",
       " 'HUAUCHINANGO',\n",
       " 'LERDO',\n",
       " 'CAÑADA MORELOS',\n",
       " 'COZUMEL',\n",
       " 'TEMASCALAPA',\n",
       " 'MOROLEON',\n",
       " 'CALERA',\n",
       " 'MINATITLAN',\n",
       " 'OCOTLAN',\n",
       " 'NEXTLALPAN',\n",
       " 'LOS REYES',\n",
       " 'CHIHUAHUA',\n",
       " 'TETELA DEL VOLCAN',\n",
       " 'OTHON P. BLANCO',\n",
       " 'ROMITA',\n",
       " 'SAN ANDRES TUXTLA',\n",
       " 'ALTAMIRA',\n",
       " 'MORELOS',\n",
       " 'HUATUSCO',\n",
       " 'SANTA CRUZ XOXOCOTLAN',\n",
       " 'CERRO DE SAN PEDRO',\n",
       " 'ATLAUTLA',\n",
       " 'TAMPICO',\n",
       " 'MATAMOROS',\n",
       " 'TENOSIQUE',\n",
       " 'COCOTITLAN',\n",
       " 'CUAUTLANCINGO',\n",
       " 'PAPALOTLA',\n",
       " 'MAZATLAN',\n",
       " 'CHILON',\n",
       " 'PARRAS',\n",
       " 'GARCIA',\n",
       " 'BUCTZOTZ',\n",
       " 'SAN FELIPE DEL PROGRESO',\n",
       " 'PAPANTLA',\n",
       " 'JIQUIPILCO',\n",
       " 'ZINACANTEPEC',\n",
       " 'CUETZALAN DEL PROGRESO',\n",
       " 'CAMPECHE',\n",
       " 'ASCENSION',\n",
       " 'AHOME',\n",
       " 'TOMATLAN',\n",
       " 'TEPEAPULCO',\n",
       " 'CALPULALPAN',\n",
       " 'EL FUERTE',\n",
       " 'YEHUALTEPEC',\n",
       " 'PANUCO',\n",
       " 'CHICONCUAC',\n",
       " 'ACTOPAN',\n",
       " 'ALFAJAYUCAN',\n",
       " 'CATAZAJA',\n",
       " 'MACUSPANA',\n",
       " 'TLAJOMULCO DE ZUÑIGA',\n",
       " 'BUENAVENTURA',\n",
       " 'IGUALA DE LA INDEPENDENCIA',\n",
       " 'OMETEPEC',\n",
       " 'TECAMACHALCO',\n",
       " 'ACULCO',\n",
       " 'LAFRAGUA',\n",
       " 'METZTITLAN',\n",
       " 'ASIENTOS',\n",
       " 'NAUPAN',\n",
       " 'COENEO',\n",
       " 'IXMIQUILPAN',\n",
       " 'PENJAMO',\n",
       " 'COYUCA DE BENITEZ',\n",
       " 'ZAPOTLAN EL GRANDE',\n",
       " 'COATZACOALCOS',\n",
       " 'YAUTEPEC',\n",
       " 'SAN MARTIN DE LAS PIRAMIDES',\n",
       " 'XONACATLAN',\n",
       " 'TEJUPILCO',\n",
       " 'CIUDAD MADERO',\n",
       " 'SAN ANTONIO LA ISLA',\n",
       " 'SAN MIGUEL XOXTLA',\n",
       " 'TEPEJI DEL RIO DE OCAMPO',\n",
       " 'PROGRESO DE OBREGON',\n",
       " 'VALLE HERMOSO',\n",
       " 'TEPEACA',\n",
       " 'CARRILLO PUERTO',\n",
       " 'TEOTITLAN DE FLORES MAGON',\n",
       " 'TUXTLA GUTIERREZ',\n",
       " 'HUIXTAN',\n",
       " 'SAN PEDRO POCHUTLA',\n",
       " 'OCAMPO',\n",
       " 'ACAMBARO',\n",
       " 'VILLA DE ALLENDE',\n",
       " 'SAN PEDRO MIXTEPEC - DISTR. 22 -',\n",
       " 'GENERAL ESCOBEDO',\n",
       " 'TECOLUTLA',\n",
       " 'TARIMORO',\n",
       " 'ACAYUCAN',\n",
       " 'CHAPULTEPEC',\n",
       " 'TOTOLAPAN',\n",
       " 'AHUATLAN',\n",
       " 'APAN',\n",
       " 'CIUDAD VALLES',\n",
       " 'APATZINGAN',\n",
       " 'ALTO LUCERO DE GUTIERREZ BARRIOS',\n",
       " 'TLAHUELILPAN',\n",
       " 'IXTAPAN DE LA SAL',\n",
       " 'ACAXOCHITLAN',\n",
       " 'COYOTEPEC',\n",
       " 'RIO BLANCO',\n",
       " 'YAUHQUEMECAN',\n",
       " 'SAN PEDRO ATOYAC',\n",
       " 'ACONCHI',\n",
       " 'ATITALAQUIA',\n",
       " 'TEQUISQUIAPAN',\n",
       " 'COMPOSTELA',\n",
       " 'CARMEN',\n",
       " 'HUEYAPAN DE OCAMPO',\n",
       " 'JARAL DEL PROGRESO',\n",
       " 'COYUCA DE CATALAN',\n",
       " 'TLAXCO',\n",
       " 'ZAMORA',\n",
       " 'TLANALAPA',\n",
       " 'HUEYPOXTLA',\n",
       " 'APODACA',\n",
       " 'ATOTONILCO EL GRANDE',\n",
       " 'JUAN GALINDO',\n",
       " 'DZILAM DE BRAVO',\n",
       " 'SAN PEDRO JICAYAN',\n",
       " 'TECATE',\n",
       " 'HUIXTLA',\n",
       " 'ESPAÑITA',\n",
       " 'MEDELLIN',\n",
       " 'CIUDAD DEL MAIZ',\n",
       " 'ATZITZINTLA',\n",
       " 'COPANATOYAC',\n",
       " 'LORETO',\n",
       " 'AHUMADA',\n",
       " 'LIBRES',\n",
       " 'HIDALGO',\n",
       " 'ZEMPOALA',\n",
       " 'ACAMBAY',\n",
       " 'SAN GREGORIO ATZOMPA',\n",
       " 'PATZCUARO',\n",
       " 'BERRIOZABAL',\n",
       " 'SAN MATIAS TLALANCALECA',\n",
       " 'SENGUIO',\n",
       " 'SAN JUAN DE LOS LAGOS',\n",
       " 'CHARO',\n",
       " 'SAN BARTOLO COYOTEPEC',\n",
       " 'YURIRIA',\n",
       " 'SAN PEDRO CHOLULA',\n",
       " 'MULEGE',\n",
       " 'AYALA',\n",
       " 'AMECA',\n",
       " 'ACUAMANALA DE MIGUEL HIDALGO',\n",
       " 'LAZARO CARDENAS',\n",
       " 'MUZQUIZ',\n",
       " 'LOS REYES DE JUAREZ',\n",
       " 'MIACATLAN',\n",
       " 'MAGDALENA',\n",
       " 'TACAMBARO',\n",
       " 'LAGOS DE MORENO',\n",
       " 'JESUS MARIA',\n",
       " 'SABINAS',\n",
       " 'JALOSTOTITLAN',\n",
       " 'SAN PABLO DEL MONTE',\n",
       " 'JUAREZ',\n",
       " 'MARIANO ESCOBEDO',\n",
       " 'CHIAUTLA',\n",
       " 'NOGALES',\n",
       " 'PEROTE',\n",
       " 'MINERAL DEL MONTE',\n",
       " 'MARAVATIO',\n",
       " 'ESPERANZA',\n",
       " 'NAVOJOA',\n",
       " 'ZACATLAN',\n",
       " 'XOCHICOATLAN',\n",
       " 'NANACAMILPA DE MARIANO ARISTA',\n",
       " 'COPALA',\n",
       " 'SAN MIGUEL TOTOLAPAN',\n",
       " 'TECPAN DE GALEANA',\n",
       " 'TANCANHUITZ',\n",
       " 'XICOTEPEC',\n",
       " 'ATOTONILCO DE TULA',\n",
       " 'SANTA MARIA COYOTEPEC',\n",
       " 'CABO CORRIENTES',\n",
       " 'PETLALCINGO',\n",
       " 'CAPULHUAC',\n",
       " 'PISAFLORES',\n",
       " 'TULCINGO',\n",
       " 'TLAXCOAPAN',\n",
       " 'TALA',\n",
       " 'TLAQUEPAQUE',\n",
       " 'IGNACIO DE LA LLAVE',\n",
       " 'YURECUARO',\n",
       " 'CHIAPA DE CORZO',\n",
       " 'COSAMALOAPAN DE CARPIO',\n",
       " 'SAIN ALTO',\n",
       " 'TLACHICHUCA',\n",
       " 'PUNGARABATO',\n",
       " 'TEXCALYACAC',\n",
       " 'MIAHUATLAN DE PORFIRIO DIAZ',\n",
       " 'GšEMEZ',\n",
       " 'ECUANDUREO',\n",
       " 'MARIN',\n",
       " 'SAN DIEGO DE LA UNION',\n",
       " 'SALTILLO',\n",
       " 'HUITZUCO DE LOS FIGUEROA',\n",
       " 'SINALOA',\n",
       " 'TETEPANGO',\n",
       " 'TIQUICHEO DE NICOLAS ROMERO',\n",
       " 'HALACHO',\n",
       " 'CHIGNAHUAPAN',\n",
       " 'HOPELCHEN',\n",
       " 'NACO',\n",
       " 'SAN CRISTOBAL DE LAS CASAS',\n",
       " 'ZAPOTITLAN PALMAS',\n",
       " 'CHAPA DE MOTA',\n",
       " 'XICO',\n",
       " 'PUTLA VILLA DE GUERRERO',\n",
       " 'MATEHUALA',\n",
       " 'TICUL',\n",
       " 'ACATLAN',\n",
       " 'SANTIAGO TULANTEPEC DE LUGO GUERRERO',\n",
       " 'CUAUTEPEC DE HINOJOSA',\n",
       " 'APETATITLAN DE ANTONIO CARVAJAL',\n",
       " 'TEMOAYA',\n",
       " 'CHAPULHUACAN',\n",
       " 'GENERAL HELIODORO CASTILLO',\n",
       " 'SAN FELIPE TEJALAPAM',\n",
       " 'APAXCO',\n",
       " 'FRANCISCO I. MADERO',\n",
       " 'AMATENANGO DEL VALLE',\n",
       " 'IRIMBO',\n",
       " 'SANTA ANA',\n",
       " 'Tulum',\n",
       " 'CHURINTZIO',\n",
       " 'AMOZOC',\n",
       " 'OMITLAN DE JUAREZ',\n",
       " 'TANHUATO',\n",
       " 'COATEPEC',\n",
       " 'OLUTA',\n",
       " 'BRISEÑAS',\n",
       " 'SAN JUAN BAUTISTA ATATLAHUCA',\n",
       " 'ARIO',\n",
       " 'JILOTZINGO',\n",
       " 'SANTO TOMAS',\n",
       " 'AQUILES SERDAN',\n",
       " 'RAFAEL DELGADO',\n",
       " 'ERONGARICUARO',\n",
       " 'EL SALTO',\n",
       " 'TENANGO DE DORIA',\n",
       " 'SAN FRANCISCO HUEHUETLAN',\n",
       " 'MISANTLA',\n",
       " 'TEHUITZINGO',\n",
       " 'ROSARIO',\n",
       " 'BUSTAMANTE',\n",
       " 'TULA',\n",
       " 'AGUA PRIETA',\n",
       " 'ZITLALTEPEC DE TRINIDAD SANCHEZ SANTOS',\n",
       " 'ALMOLOYA DEL RIO',\n",
       " 'CIENEGA DE FLORES',\n",
       " 'COMAPA',\n",
       " 'PALENQUE',\n",
       " 'LA MAGDALENA TLALTELULCO',\n",
       " 'SAN FRANCISCO JALTEPETONGO',\n",
       " 'TLAPA DE COMONFORT',\n",
       " 'TIERRA BLANCA',\n",
       " 'TEPATITLAN DE MORELOS',\n",
       " 'QUIMIXTLAN',\n",
       " 'SAN SIMON DE GUERRERO',\n",
       " 'TEOTITLAN DEL VALLE',\n",
       " 'ASUNCION NOCHIXTLAN']"
      ]
     },
     "execution_count": 60,
     "metadata": {},
     "output_type": "execute_result"
    }
   ],
   "source": [
    "municipios = df[\"alcaldia_hechos\"].unique().tolist()\n",
    "\n",
    "municipios[:21]"
   ]
  },
  {
   "cell_type": "markdown",
   "metadata": {},
   "source": [
    "Por lo que creamos una lista con los nombres de las alcaldias de la CDMX:"
   ]
  },
  {
   "cell_type": "code",
   "execution_count": 19,
   "metadata": {},
   "outputs": [
    {
     "data": {
      "text/plain": [
       "16"
      ]
     },
     "execution_count": 19,
     "metadata": {},
     "output_type": "execute_result"
    }
   ],
   "source": [
    "alcaldiascdmx = [\"ALVARO OBREGON\",\"AZCAPOTZALCO\",\"BENITO JUAREZ\",\"COYOACAN\",\"CUAJIMALPA DE MORELOS\",\"CUAUHTEMOC\",\"GUSTAVO A MADERO\",\n",
    "                \"IZTACALCO\",\"IZTAPALAPA\",\"LA MAGDALENA CONTRERAS\",\"MIGUEL HIDALGO\",\"MILPA ALTA\",\"TLAHUAC\",\"TLALPAN\",\n",
    "                \"VENUSTIANO CARRANZA\",\"XOCHIMILCO\"]\n",
    "len(alcaldiascdmx)"
   ]
  },
  {
   "cell_type": "markdown",
   "metadata": {},
   "source": [
    "Creamos un dataframe con datos solo de CDMX:"
   ]
  },
  {
   "cell_type": "code",
   "execution_count": 24,
   "metadata": {
    "scrolled": true
   },
   "outputs": [
    {
     "data": {
      "text/html": [
       "<div>\n",
       "<style scoped>\n",
       "    .dataframe tbody tr th:only-of-type {\n",
       "        vertical-align: middle;\n",
       "    }\n",
       "\n",
       "    .dataframe tbody tr th {\n",
       "        vertical-align: top;\n",
       "    }\n",
       "\n",
       "    .dataframe thead th {\n",
       "        text-align: right;\n",
       "    }\n",
       "</style>\n",
       "<table border=\"1\" class=\"dataframe\">\n",
       "  <thead>\n",
       "    <tr style=\"text-align: right;\">\n",
       "      <th></th>\n",
       "      <th>ao_hechos</th>\n",
       "      <th>mes_hechos</th>\n",
       "      <th>fecha_hechos</th>\n",
       "      <th>ao_inicio</th>\n",
       "      <th>mes_inicio</th>\n",
       "      <th>fecha_inicio</th>\n",
       "      <th>delito</th>\n",
       "      <th>fiscalia</th>\n",
       "      <th>agencia</th>\n",
       "      <th>unidad_investigacion</th>\n",
       "      <th>categoria_delito</th>\n",
       "      <th>calle_hechos</th>\n",
       "      <th>calle_hechos2</th>\n",
       "      <th>colonia_hechos</th>\n",
       "      <th>alcaldia_hechos</th>\n",
       "      <th>competencia</th>\n",
       "      <th>longitud</th>\n",
       "      <th>latitud</th>\n",
       "    </tr>\n",
       "  </thead>\n",
       "  <tbody>\n",
       "    <tr>\n",
       "      <th>0</th>\n",
       "      <td>2016.0</td>\n",
       "      <td>Enero</td>\n",
       "      <td>2016-01-31 22:16:00</td>\n",
       "      <td>2016</td>\n",
       "      <td>Febrero</td>\n",
       "      <td>2016-02-01 00:25:44</td>\n",
       "      <td>DAÑO EN PROPIEDAD AJENA INTENCIONAL</td>\n",
       "      <td>INVESTIGACIÓN EN BENITO JUÁREZ</td>\n",
       "      <td>BJ-2</td>\n",
       "      <td>UI-3CD</td>\n",
       "      <td>DELITO DE BAJO IMPACTO</td>\n",
       "      <td>CALZ. DE TLALPAN</td>\n",
       "      <td>LAGO PTE.</td>\n",
       "      <td>AMÉRICAS UNIDAS</td>\n",
       "      <td>BENITO JUAREZ</td>\n",
       "      <td>NaN</td>\n",
       "      <td>-99.140215</td>\n",
       "      <td>19.380315</td>\n",
       "    </tr>\n",
       "    <tr>\n",
       "      <th>1</th>\n",
       "      <td>2016.0</td>\n",
       "      <td>Enero</td>\n",
       "      <td>2016-01-31 20:50:00</td>\n",
       "      <td>2016</td>\n",
       "      <td>Febrero</td>\n",
       "      <td>2016-02-01 00:52:37</td>\n",
       "      <td>ROBO DE VEHICULO DE SERVICIO PARTICULAR CON VI...</td>\n",
       "      <td>INVESTIGACIÓN PARA LA ATENCIÓN DEL DELITO DE R...</td>\n",
       "      <td>ORIENTEII</td>\n",
       "      <td>UI-3CD</td>\n",
       "      <td>ROBO DE VEHÍCULO CON Y SIN VIOLENCIA</td>\n",
       "      <td>SUR 25 A</td>\n",
       "      <td>GRANJEROS</td>\n",
       "      <td>LOS CIPRESES</td>\n",
       "      <td>IZTAPALAPA</td>\n",
       "      <td>NaN</td>\n",
       "      <td>-99.108403</td>\n",
       "      <td>19.352859</td>\n",
       "    </tr>\n",
       "    <tr>\n",
       "      <th>2</th>\n",
       "      <td>2016.0</td>\n",
       "      <td>Febrero</td>\n",
       "      <td>2016-02-01 00:30:00</td>\n",
       "      <td>2016</td>\n",
       "      <td>Febrero</td>\n",
       "      <td>2016-02-01 01:33:26</td>\n",
       "      <td>NARCOMENUDEO POSESION SIMPLE</td>\n",
       "      <td>INVESTIGACIÓN PARA LA ATENCIÓN DE NIÑOS, NIÑAS...</td>\n",
       "      <td>57</td>\n",
       "      <td>UI-3CD</td>\n",
       "      <td>DELITO DE BAJO IMPACTO</td>\n",
       "      <td>BATALLONES ROJOS</td>\n",
       "      <td>NaN</td>\n",
       "      <td>UNIDAD VICENTE GUERRERO</td>\n",
       "      <td>IZTAPALAPA</td>\n",
       "      <td>NaN</td>\n",
       "      <td>-99.061321</td>\n",
       "      <td>19.356451</td>\n",
       "    </tr>\n",
       "    <tr>\n",
       "      <th>3</th>\n",
       "      <td>2016.0</td>\n",
       "      <td>Enero</td>\n",
       "      <td>2016-01-31 22:00:00</td>\n",
       "      <td>2016</td>\n",
       "      <td>Febrero</td>\n",
       "      <td>2016-02-01 02:09:11</td>\n",
       "      <td>ROBO A TRANSEUNTE EN VIA PUBLICA CON VIOLENCIA</td>\n",
       "      <td>INVESTIGACIÓN EN IZTAPALAPA</td>\n",
       "      <td>IZP-6</td>\n",
       "      <td>UI-3CD</td>\n",
       "      <td>ROBO A TRANSEUNTE EN VÍA PÚBLICA CON Y SIN VIO...</td>\n",
       "      <td>GERANIO</td>\n",
       "      <td>GAVILLEROS</td>\n",
       "      <td>EMILIANO ZAPATA</td>\n",
       "      <td>IZTAPALAPA</td>\n",
       "      <td>NaN</td>\n",
       "      <td>-98.976379</td>\n",
       "      <td>19.331633</td>\n",
       "    </tr>\n",
       "    <tr>\n",
       "      <th>4</th>\n",
       "      <td>2015.0</td>\n",
       "      <td>Diciembre</td>\n",
       "      <td>2015-12-25 12:00:00</td>\n",
       "      <td>2016</td>\n",
       "      <td>Febrero</td>\n",
       "      <td>2016-02-01 02:16:49</td>\n",
       "      <td>DENUNCIA DE HECHOS</td>\n",
       "      <td>INVESTIGACIÓN EN BENITO JUÁREZ</td>\n",
       "      <td>BJ-1</td>\n",
       "      <td>UI-3SD</td>\n",
       "      <td>HECHO NO DELICTIVO</td>\n",
       "      <td>SAN FRANCISCO</td>\n",
       "      <td>AVENIDA COLONIA DEL VALLE</td>\n",
       "      <td>DEL VALLE CENTRO</td>\n",
       "      <td>BENITO JUAREZ</td>\n",
       "      <td>NaN</td>\n",
       "      <td>-99.172189</td>\n",
       "      <td>19.387114</td>\n",
       "    </tr>\n",
       "  </tbody>\n",
       "</table>\n",
       "</div>"
      ],
      "text/plain": [
       "   ao_hechos mes_hechos         fecha_hechos  ao_inicio mes_inicio  \\\n",
       "0     2016.0      Enero  2016-01-31 22:16:00       2016    Febrero   \n",
       "1     2016.0      Enero  2016-01-31 20:50:00       2016    Febrero   \n",
       "2     2016.0    Febrero  2016-02-01 00:30:00       2016    Febrero   \n",
       "3     2016.0      Enero  2016-01-31 22:00:00       2016    Febrero   \n",
       "4     2015.0  Diciembre  2015-12-25 12:00:00       2016    Febrero   \n",
       "\n",
       "          fecha_inicio                                             delito  \\\n",
       "0  2016-02-01 00:25:44                DAÑO EN PROPIEDAD AJENA INTENCIONAL   \n",
       "1  2016-02-01 00:52:37  ROBO DE VEHICULO DE SERVICIO PARTICULAR CON VI...   \n",
       "2  2016-02-01 01:33:26                       NARCOMENUDEO POSESION SIMPLE   \n",
       "3  2016-02-01 02:09:11     ROBO A TRANSEUNTE EN VIA PUBLICA CON VIOLENCIA   \n",
       "4  2016-02-01 02:16:49                                 DENUNCIA DE HECHOS   \n",
       "\n",
       "                                            fiscalia    agencia  \\\n",
       "0                     INVESTIGACIÓN EN BENITO JUÁREZ       BJ-2   \n",
       "1  INVESTIGACIÓN PARA LA ATENCIÓN DEL DELITO DE R...  ORIENTEII   \n",
       "2  INVESTIGACIÓN PARA LA ATENCIÓN DE NIÑOS, NIÑAS...         57   \n",
       "3                        INVESTIGACIÓN EN IZTAPALAPA      IZP-6   \n",
       "4                     INVESTIGACIÓN EN BENITO JUÁREZ       BJ-1   \n",
       "\n",
       "  unidad_investigacion                                   categoria_delito  \\\n",
       "0               UI-3CD                             DELITO DE BAJO IMPACTO   \n",
       "1               UI-3CD               ROBO DE VEHÍCULO CON Y SIN VIOLENCIA   \n",
       "2               UI-3CD                             DELITO DE BAJO IMPACTO   \n",
       "3               UI-3CD  ROBO A TRANSEUNTE EN VÍA PÚBLICA CON Y SIN VIO...   \n",
       "4               UI-3SD                                 HECHO NO DELICTIVO   \n",
       "\n",
       "       calle_hechos              calle_hechos2           colonia_hechos  \\\n",
       "0  CALZ. DE TLALPAN                  LAGO PTE.          AMÉRICAS UNIDAS   \n",
       "1          SUR 25 A                  GRANJEROS             LOS CIPRESES   \n",
       "2  BATALLONES ROJOS                        NaN  UNIDAD VICENTE GUERRERO   \n",
       "3           GERANIO                 GAVILLEROS          EMILIANO ZAPATA   \n",
       "4     SAN FRANCISCO  AVENIDA COLONIA DEL VALLE         DEL VALLE CENTRO   \n",
       "\n",
       "  alcaldia_hechos competencia   longitud    latitud  \n",
       "0   BENITO JUAREZ         NaN -99.140215  19.380315  \n",
       "1      IZTAPALAPA         NaN -99.108403  19.352859  \n",
       "2      IZTAPALAPA         NaN -99.061321  19.356451  \n",
       "3      IZTAPALAPA         NaN -98.976379  19.331633  \n",
       "4   BENITO JUAREZ         NaN -99.172189  19.387114  "
      ]
     },
     "execution_count": 24,
     "metadata": {},
     "output_type": "execute_result"
    }
   ],
   "source": [
    "dfcdmx = df[df[\"alcaldia_hechos\"].isin(alcaldiascdmx)]\n",
    "\n",
    "dfcdmx.head()"
   ]
  },
  {
   "cell_type": "code",
   "execution_count": 110,
   "metadata": {
    "scrolled": true
   },
   "outputs": [
    {
     "data": {
      "text/plain": [
       "alcaldia_hechos\n",
       "ALVARO OBREGON            282\n",
       "AZCAPOTZALCO              271\n",
       "BENITO JUAREZ             279\n",
       "COYOACAN                  275\n",
       "CUAJIMALPA DE MORELOS     233\n",
       "CUAUHTEMOC                312\n",
       "GUSTAVO A MADERO          292\n",
       "IZTACALCO                 261\n",
       "IZTAPALAPA                301\n",
       "LA MAGDALENA CONTRERAS    227\n",
       "MIGUEL HIDALGO            282\n",
       "MILPA ALTA                204\n",
       "TLAHUAC                   252\n",
       "TLALPAN                   274\n",
       "VENUSTIANO CARRANZA       265\n",
       "XOCHIMILCO                267\n",
       "Name: delito, dtype: int64"
      ]
     },
     "execution_count": 110,
     "metadata": {},
     "output_type": "execute_result"
    }
   ],
   "source": [
    "df_delitos= dfcdmx[[\"alcaldia_hechos\",\"delito\"]]\n",
    "\n",
    "df_agrupado = df_delitos.groupby(\"alcaldia_hechos\").nunique()\n",
    "\n",
    "df_agrupado[\"delito\"]"
   ]
  },
  {
   "cell_type": "markdown",
   "metadata": {},
   "source": [
    "Creamos un grafico de barras:"
   ]
  },
  {
   "cell_type": "code",
   "execution_count": 82,
   "metadata": {},
   "outputs": [
    {
     "data": {
      "image/png": "[encoded data removed]",
      "text/plain": [
       "<Figure size 864x432 with 1 Axes>"
      ]
     },
     "metadata": {
      "needs_background": "light"
     },
     "output_type": "display_data"
    }
   ],
   "source": [
    "import matplotlib.pyplot as plt\n",
    "\n",
    "plt.figure(figsize =(12,6))\n",
    "plt.bar(alcaldiascdmx,df_agrupado[\"delito\"],color = \"crimson\")\n",
    "\n",
    "plt.title(\"Distribución de delitos en CDMX\",fontdict ={\"fontweight\":\"bold\", \"fontsize\":15})\n",
    "plt.xlabel(\"Alcaldias\",fontdict ={\"fontsize\":12})\n",
    "plt.ylabel(\"Número de delitos\",fontdict ={\"fontsize\":12})\n",
    "plt.xticks(rotation='vertical')\n",
    "\n",
    "plt.show()"
   ]
  },
  {
   "cell_type": "markdown",
   "metadata": {},
   "source": [
    "#### Los 5 delitos más frecuentes son:"
   ]
  },
  {
   "cell_type": "code",
   "execution_count": 51,
   "metadata": {},
   "outputs": [
    {
     "data": {
      "text/plain": [
       "VIOLENCIA FAMILIAR              113712\n",
       "FRAUDE                           69387\n",
       "ROBO DE OBJETOS                  68222\n",
       "ROBO A NEGOCIO SIN VIOLENCIA     65024\n",
       "AMENAZAS                         60043\n",
       "Name: delito, dtype: int64"
      ]
     },
     "execution_count": 51,
     "metadata": {},
     "output_type": "execute_result"
    }
   ],
   "source": [
    "delit_freq = df[\"delito\"].value_counts()\n",
    "\n",
    "delit_freq.head()"
   ]
  },
  {
   "cell_type": "markdown",
   "metadata": {},
   "source": [
    "### 4. Identifica los delitos que van a la alza y a la baja en la CDMX en el último año (ten cuidado con los delitos con pocas ocurrencias)."
   ]
  },
  {
   "cell_type": "code",
   "execution_count": 21,
   "metadata": {},
   "outputs": [],
   "source": [
    "from datetime import datetime"
   ]
  },
  {
   "cell_type": "markdown",
   "metadata": {},
   "source": [
    "Comprobamos que hay valores faltantes en \"fecha_hechos\":"
   ]
  },
  {
   "cell_type": "code",
   "execution_count": 25,
   "metadata": {},
   "outputs": [
    {
     "data": {
      "text/plain": [
       "fecha_hechos    419\n",
       "fecha_inicio      0\n",
       "dtype: int64"
      ]
     },
     "execution_count": 25,
     "metadata": {},
     "output_type": "execute_result"
    }
   ],
   "source": [
    "dfcdmx[[\"fecha_hechos\",\"fecha_inicio\"]].isnull().sum()"
   ]
  },
  {
   "cell_type": "markdown",
   "metadata": {},
   "source": [
    "Quitamos las filas con valores faltantes en la columna \"fecha_hechos\":"
   ]
  },
  {
   "cell_type": "code",
   "execution_count": 26,
   "metadata": {},
   "outputs": [
    {
     "name": "stderr",
     "output_type": "stream",
     "text": [
      "<ipython-input-26-22c4e3293d3c>:1: SettingWithCopyWarning: \n",
      "A value is trying to be set on a copy of a slice from a DataFrame\n",
      "\n",
      "See the caveats in the documentation: https://pandas.pydata.org/pandas-docs/stable/user_guide/indexing.html#returning-a-view-versus-a-copy\n",
      "  dfcdmx.dropna(subset=[\"fecha_hechos\"],inplace=True)\n"
     ]
    }
   ],
   "source": [
    "dfcdmx.dropna(subset=[\"fecha_hechos\"],inplace=True)"
   ]
  },
  {
   "cell_type": "markdown",
   "metadata": {},
   "source": [
    "Checamos que ya no hay valores faltantes en \"fecha_hechos\":"
   ]
  },
  {
   "cell_type": "code",
   "execution_count": 28,
   "metadata": {},
   "outputs": [
    {
     "data": {
      "text/plain": [
       "fecha_hechos    0\n",
       "fecha_inicio    0\n",
       "dtype: int64"
      ]
     },
     "execution_count": 28,
     "metadata": {},
     "output_type": "execute_result"
    }
   ],
   "source": [
    "dfcdmx[[\"fecha_hechos\",\"fecha_inicio\"]].isnull().sum()"
   ]
  },
  {
   "cell_type": "code",
   "execution_count": 29,
   "metadata": {},
   "outputs": [
    {
     "name": "stdout",
     "output_type": "stream",
     "text": [
      "<class 'pandas.core.frame.DataFrame'>\n",
      "Int64Index: 1139636 entries, 0 to 1151849\n",
      "Data columns (total 18 columns):\n",
      " #   Column                Non-Null Count    Dtype  \n",
      "---  ------                --------------    -----  \n",
      " 0   ao_hechos             1139636 non-null  float64\n",
      " 1   mes_hechos            1139636 non-null  object \n",
      " 2   fecha_hechos          1139636 non-null  object \n",
      " 3   ao_inicio             1139636 non-null  int64  \n",
      " 4   mes_inicio            1139636 non-null  object \n",
      " 5   fecha_inicio          1139636 non-null  object \n",
      " 6   delito                1139636 non-null  object \n",
      " 7   fiscalia              1139634 non-null  object \n",
      " 8   agencia               1139636 non-null  object \n",
      " 9   unidad_investigacion  1139413 non-null  object \n",
      " 10  categoria_delito      1139636 non-null  object \n",
      " 11  calle_hechos          1137112 non-null  object \n",
      " 12  calle_hechos2         447517 non-null   object \n",
      " 13  colonia_hechos        1104701 non-null  object \n",
      " 14  alcaldia_hechos       1139636 non-null  object \n",
      " 15  competencia           217731 non-null   object \n",
      " 16  longitud              1105682 non-null  float64\n",
      " 17  latitud               1105683 non-null  float64\n",
      "dtypes: float64(3), int64(1), object(14)\n",
      "memory usage: 165.2+ MB\n"
     ]
    }
   ],
   "source": [
    "dfcdmx.info()"
   ]
  },
  {
   "cell_type": "markdown",
   "metadata": {},
   "source": [
    "Convertimos \"fecha_hechos\" a datetime:"
   ]
  },
  {
   "cell_type": "code",
   "execution_count": 30,
   "metadata": {},
   "outputs": [
    {
     "name": "stderr",
     "output_type": "stream",
     "text": [
      "<ipython-input-30-69b7e13bd85d>:1: SettingWithCopyWarning: \n",
      "A value is trying to be set on a copy of a slice from a DataFrame.\n",
      "Try using .loc[row_indexer,col_indexer] = value instead\n",
      "\n",
      "See the caveats in the documentation: https://pandas.pydata.org/pandas-docs/stable/user_guide/indexing.html#returning-a-view-versus-a-copy\n",
      "  dfcdmx[\"fecha_hechos_dt\"] = dfcdmx[\"fecha_hechos\"].apply(lambda x: datetime.strptime(x,'%Y-%m-%d %H:%M:%S'))\n"
     ]
    },
    {
     "data": {
      "text/plain": [
       "0         2016-01-31 22:16:00\n",
       "1         2016-01-31 20:50:00\n",
       "2         2016-02-01 00:30:00\n",
       "3         2016-01-31 22:00:00\n",
       "4         2015-12-25 12:00:00\n",
       "                  ...        \n",
       "1151845   2021-01-01 03:30:00\n",
       "1151846   2021-01-31 23:00:00\n",
       "1151847   2021-01-31 17:00:00\n",
       "1151848   2021-01-31 21:00:00\n",
       "1151849   2021-01-01 11:47:00\n",
       "Name: fecha_hechos_dt, Length: 1139636, dtype: datetime64[ns]"
      ]
     },
     "execution_count": 30,
     "metadata": {},
     "output_type": "execute_result"
    }
   ],
   "source": [
    "dfcdmx[\"fecha_hechos_dt\"] = dfcdmx[\"fecha_hechos\"].apply(lambda x: datetime.strptime(x,'%Y-%m-%d %H:%M:%S'))\n",
    "\n",
    "dfcdmx[\"fecha_hechos_dt\"]"
   ]
  },
  {
   "cell_type": "markdown",
   "metadata": {},
   "source": [
    "De esta columna podemos crear las columnas \"ao_hechos_dt\" y \"mes_hechos_dt\" en formato datetime:"
   ]
  },
  {
   "cell_type": "code",
   "execution_count": 33,
   "metadata": {},
   "outputs": [
    {
     "name": "stderr",
     "output_type": "stream",
     "text": [
      "<ipython-input-33-3ae3910162b1>:1: SettingWithCopyWarning: \n",
      "A value is trying to be set on a copy of a slice from a DataFrame.\n",
      "Try using .loc[row_indexer,col_indexer] = value instead\n",
      "\n",
      "See the caveats in the documentation: https://pandas.pydata.org/pandas-docs/stable/user_guide/indexing.html#returning-a-view-versus-a-copy\n",
      "  dfcdmx[\"ao_hechos_dt\"] = dfcdmx[\"fecha_hechos_dt\"].apply(lambda x: x.year)\n",
      "<ipython-input-33-3ae3910162b1>:2: SettingWithCopyWarning: \n",
      "A value is trying to be set on a copy of a slice from a DataFrame.\n",
      "Try using .loc[row_indexer,col_indexer] = value instead\n",
      "\n",
      "See the caveats in the documentation: https://pandas.pydata.org/pandas-docs/stable/user_guide/indexing.html#returning-a-view-versus-a-copy\n",
      "  dfcdmx[\"mes_hechos_dt\"] = dfcdmx[\"fecha_hechos_dt\"].apply(lambda x: x.month)\n"
     ]
    },
    {
     "data": {
      "text/html": [
       "<div>\n",
       "<style scoped>\n",
       "    .dataframe tbody tr th:only-of-type {\n",
       "        vertical-align: middle;\n",
       "    }\n",
       "\n",
       "    .dataframe tbody tr th {\n",
       "        vertical-align: top;\n",
       "    }\n",
       "\n",
       "    .dataframe thead th {\n",
       "        text-align: right;\n",
       "    }\n",
       "</style>\n",
       "<table border=\"1\" class=\"dataframe\">\n",
       "  <thead>\n",
       "    <tr style=\"text-align: right;\">\n",
       "      <th></th>\n",
       "      <th>ao_hechos_dt</th>\n",
       "      <th>mes_hechos_dt</th>\n",
       "    </tr>\n",
       "  </thead>\n",
       "  <tbody>\n",
       "    <tr>\n",
       "      <th>0</th>\n",
       "      <td>2016</td>\n",
       "      <td>1</td>\n",
       "    </tr>\n",
       "    <tr>\n",
       "      <th>1</th>\n",
       "      <td>2016</td>\n",
       "      <td>1</td>\n",
       "    </tr>\n",
       "    <tr>\n",
       "      <th>2</th>\n",
       "      <td>2016</td>\n",
       "      <td>2</td>\n",
       "    </tr>\n",
       "    <tr>\n",
       "      <th>3</th>\n",
       "      <td>2016</td>\n",
       "      <td>1</td>\n",
       "    </tr>\n",
       "    <tr>\n",
       "      <th>4</th>\n",
       "      <td>2015</td>\n",
       "      <td>12</td>\n",
       "    </tr>\n",
       "    <tr>\n",
       "      <th>...</th>\n",
       "      <td>...</td>\n",
       "      <td>...</td>\n",
       "    </tr>\n",
       "    <tr>\n",
       "      <th>1151845</th>\n",
       "      <td>2021</td>\n",
       "      <td>1</td>\n",
       "    </tr>\n",
       "    <tr>\n",
       "      <th>1151846</th>\n",
       "      <td>2021</td>\n",
       "      <td>1</td>\n",
       "    </tr>\n",
       "    <tr>\n",
       "      <th>1151847</th>\n",
       "      <td>2021</td>\n",
       "      <td>1</td>\n",
       "    </tr>\n",
       "    <tr>\n",
       "      <th>1151848</th>\n",
       "      <td>2021</td>\n",
       "      <td>1</td>\n",
       "    </tr>\n",
       "    <tr>\n",
       "      <th>1151849</th>\n",
       "      <td>2021</td>\n",
       "      <td>1</td>\n",
       "    </tr>\n",
       "  </tbody>\n",
       "</table>\n",
       "<p>1139636 rows × 2 columns</p>\n",
       "</div>"
      ],
      "text/plain": [
       "         ao_hechos_dt  mes_hechos_dt\n",
       "0                2016              1\n",
       "1                2016              1\n",
       "2                2016              2\n",
       "3                2016              1\n",
       "4                2015             12\n",
       "...               ...            ...\n",
       "1151845          2021              1\n",
       "1151846          2021              1\n",
       "1151847          2021              1\n",
       "1151848          2021              1\n",
       "1151849          2021              1\n",
       "\n",
       "[1139636 rows x 2 columns]"
      ]
     },
     "execution_count": 33,
     "metadata": {},
     "output_type": "execute_result"
    }
   ],
   "source": [
    "dfcdmx[\"ao_hechos_dt\"] = dfcdmx[\"fecha_hechos_dt\"].apply(lambda x: x.year)\n",
    "dfcdmx[\"mes_hechos_dt\"] = dfcdmx[\"fecha_hechos_dt\"].apply(lambda x: x.month)\n",
    "\n",
    "dfcdmx[[\"ao_hechos_dt\",\"mes_hechos_dt\"]]"
   ]
  },
  {
   "cell_type": "markdown",
   "metadata": {},
   "source": [
    "Filtramos los datos del ultimo año (2020) y seleccionamos las columnas utiles para este caso:"
   ]
  },
  {
   "cell_type": "code",
   "execution_count": 37,
   "metadata": {},
   "outputs": [
    {
     "data": {
      "text/html": [
       "<div>\n",
       "<style scoped>\n",
       "    .dataframe tbody tr th:only-of-type {\n",
       "        vertical-align: middle;\n",
       "    }\n",
       "\n",
       "    .dataframe tbody tr th {\n",
       "        vertical-align: top;\n",
       "    }\n",
       "\n",
       "    .dataframe thead th {\n",
       "        text-align: right;\n",
       "    }\n",
       "</style>\n",
       "<table border=\"1\" class=\"dataframe\">\n",
       "  <thead>\n",
       "    <tr style=\"text-align: right;\">\n",
       "      <th></th>\n",
       "      <th>mes_hechos</th>\n",
       "      <th>delito</th>\n",
       "    </tr>\n",
       "  </thead>\n",
       "  <tbody>\n",
       "    <tr>\n",
       "      <th>1151807</th>\n",
       "      <td>Octubre</td>\n",
       "      <td>ROBO DE DOCUMENTOS</td>\n",
       "    </tr>\n",
       "    <tr>\n",
       "      <th>1151808</th>\n",
       "      <td>Diciembre</td>\n",
       "      <td>ROBO A REPARTIDOR CON VIOLENCIA</td>\n",
       "    </tr>\n",
       "    <tr>\n",
       "      <th>1151812</th>\n",
       "      <td>Diciembre</td>\n",
       "      <td>ROBO A PASAJERO / CONDUCTOR DE VEHICULO CON VI...</td>\n",
       "    </tr>\n",
       "    <tr>\n",
       "      <th>1151828</th>\n",
       "      <td>Diciembre</td>\n",
       "      <td>AMENAZAS</td>\n",
       "    </tr>\n",
       "    <tr>\n",
       "      <th>1151838</th>\n",
       "      <td>Septiembre</td>\n",
       "      <td>VIOLENCIA FAMILIAR</td>\n",
       "    </tr>\n",
       "  </tbody>\n",
       "</table>\n",
       "</div>"
      ],
      "text/plain": [
       "         mes_hechos                                             delito\n",
       "1151807     Octubre                                 ROBO DE DOCUMENTOS\n",
       "1151808   Diciembre                    ROBO A REPARTIDOR CON VIOLENCIA\n",
       "1151812   Diciembre  ROBO A PASAJERO / CONDUCTOR DE VEHICULO CON VI...\n",
       "1151828   Diciembre                                           AMENAZAS\n",
       "1151838  Septiembre                                 VIOLENCIA FAMILIAR"
      ]
     },
     "execution_count": 37,
     "metadata": {},
     "output_type": "execute_result"
    }
   ],
   "source": [
    "df_año = dfcdmx[dfcdmx[\"ao_hechos_dt\"].isin([2020])]\n",
    "\n",
    "df_delitos_mes = df_año[[\"mes_hechos\",\"delito\"]]\n",
    "\n",
    "df_delitos_mes.tail()"
   ]
  },
  {
   "cell_type": "code",
   "execution_count": null,
   "metadata": {},
   "outputs": [],
   "source": []
  },
  {
   "cell_type": "markdown",
   "metadata": {},
   "source": [
    "Agrupamos por mes:"
   ]
  },
  {
   "cell_type": "code",
   "execution_count": 38,
   "metadata": {},
   "outputs": [
    {
     "data": {
      "text/plain": [
       "{'Enero': 218,\n",
       " 'Febrero': 230,\n",
       " 'Marzo': 230,\n",
       " 'Abril': 207,\n",
       " 'Mayo': 201,\n",
       " 'Junio': 208,\n",
       " 'Julio': 219,\n",
       " 'Agosto': 227,\n",
       " 'Septiembre': 215,\n",
       " 'Octubre': 218,\n",
       " 'Noviembre': 215,\n",
       " 'Diciembre': 207}"
      ]
     },
     "execution_count": 38,
     "metadata": {},
     "output_type": "execute_result"
    }
   ],
   "source": [
    "df_grouped = df_delitos_mes.groupby(\"mes_hechos\").nunique()\n",
    "\n",
    "#creamos un diccionario con mes y numero de delistos:\n",
    "diccionario = df_grouped.delito.to_dict()\n",
    "\n",
    "#creamos lista para ordenar:\n",
    "mi_orden = [\"Enero\",\"Febrero\",\"Marzo\",\"Abril\",\"Mayo\",\"Junio\",\"Julio\",\"Agosto\",\"Septiembre\",\"Octubre\",\"Noviembre\",\"Diciembre\"]\n",
    "\n",
    "#ordenamos el diccionario de acuerdo a meses:\n",
    "dict_ordenado = {c:diccionario[c] for c in mi_orden}\n",
    "\n",
    "dict_ordenado\n"
   ]
  },
  {
   "cell_type": "code",
   "execution_count": 52,
   "metadata": {},
   "outputs": [
    {
     "data": {
      "image/png": "[encoded data removed]",
      "text/plain": [
       "<Figure size 1008x432 with 1 Axes>"
      ]
     },
     "metadata": {
      "needs_background": "light"
     },
     "output_type": "display_data"
    }
   ],
   "source": [
    "import matplotlib.pyplot as plt\n",
    "\n",
    "lists = dict_ordenado.items() # sorted by key, return a list of tuples\n",
    "\n",
    "\n",
    "x, y = zip(*lists) # unpack a list of pairs into two tuples\n",
    "\n",
    "plt.figure(figsize =(14,6))\n",
    "plt.plot(x, y,color=\"r\",marker = \"o\")\n",
    "plt.title(\"Alza y baja de delitos totales en CDMX en 2020\",fontdict ={\"fontweight\":\"bold\", \"fontsize\":15})\n",
    "plt.xlabel(\"Meses\",fontdict ={\"fontsize\":12})\n",
    "plt.ylabel(\"Número de delitos\",fontdict ={\"fontsize\":12})\n",
    "plt.xticks(rotation='vertical')\n",
    "plt.show()"
   ]
  },
  {
   "cell_type": "markdown",
   "metadata": {},
   "source": [
    "Consideramos los primeros 5 delitos más frecuentes:"
   ]
  },
  {
   "cell_type": "code",
   "execution_count": 55,
   "metadata": {},
   "outputs": [
    {
     "data": {
      "text/plain": [
       "['VIOLENCIA FAMILIAR',\n",
       " 'FRAUDE',\n",
       " 'ROBO DE OBJETOS',\n",
       " 'ROBO A NEGOCIO SIN VIOLENCIA',\n",
       " 'AMENAZAS']"
      ]
     },
     "execution_count": 55,
     "metadata": {},
     "output_type": "execute_result"
    }
   ],
   "source": [
    "delitosfrec = delit_freq.head().index.tolist()\n",
    "\n",
    "delitosfrec"
   ]
  },
  {
   "cell_type": "code",
   "execution_count": 91,
   "metadata": {},
   "outputs": [],
   "source": [
    "delitodf = df_año[df_año[\"delito\"]== delitosfrec[0]]\n",
    "\n",
    "delitofil = delitodf[[\"mes_hechos\"]]\n",
    "\n"
   ]
  },
  {
   "cell_type": "code",
   "execution_count": 94,
   "metadata": {},
   "outputs": [
    {
     "data": {
      "image/png": "[encoded data removed]",
      "text/plain": [
       "<Figure size 1008x432 with 1 Axes>"
      ]
     },
     "metadata": {
      "needs_background": "light"
     },
     "output_type": "display_data"
    }
   ],
   "source": [
    "plt.figure(figsize =(14,6))\n",
    "plt.hist(delitofil)\n",
    "plt.title(\"Alza y baja de Violencia Familiar en CDMX en 2020\",fontdict ={\"fontweight\":\"bold\", \"fontsize\":15})\n",
    "plt.xlabel(\"Meses\",fontdict ={\"fontsize\":12})\n",
    "plt.ylabel(\"Número de delitos\",fontdict ={\"fontsize\":12})\n",
    "plt.xticks(rotation='vertical')\n",
    "plt.show()"
   ]
  },
  {
   "cell_type": "markdown",
   "metadata": {},
   "source": [
    "Podemos usar un ciclo for para verificar el mismo histograma para los diferentes delitos."
   ]
  },
  {
   "cell_type": "markdown",
   "metadata": {},
   "source": [
    "### 5. ¿Cuál es la alcaldía que más delitos tiene y cuál es la que menos?. ¿Por qué crees que sea esto?"
   ]
  },
  {
   "cell_type": "code",
   "execution_count": 178,
   "metadata": {},
   "outputs": [
    {
     "data": {
      "text/plain": [
       "alcaldia_hechos\n",
       "CUAUHTEMOC                312\n",
       "IZTAPALAPA                301\n",
       "GUSTAVO A MADERO          292\n",
       "MIGUEL HIDALGO            282\n",
       "ALVARO OBREGON            282\n",
       "BENITO JUAREZ             279\n",
       "COYOACAN                  275\n",
       "TLALPAN                   274\n",
       "AZCAPOTZALCO              271\n",
       "XOCHIMILCO                267\n",
       "VENUSTIANO CARRANZA       265\n",
       "IZTACALCO                 261\n",
       "TLAHUAC                   252\n",
       "CUAJIMALPA DE MORELOS     233\n",
       "LA MAGDALENA CONTRERAS    227\n",
       "MILPA ALTA                204\n",
       "Name: delito, dtype: int64"
      ]
     },
     "execution_count": 178,
     "metadata": {},
     "output_type": "execute_result"
    }
   ],
   "source": [
    "df_agrupado[\"delito\"].sort_values(ascending=False)"
   ]
  },
  {
   "cell_type": "code",
   "execution_count": 183,
   "metadata": {
    "scrolled": true
   },
   "outputs": [
    {
     "name": "stdout",
     "output_type": "stream",
     "text": [
      "La alcaldia con más delitos es:  CUAUHTEMOC con  312 delitos\n",
      "La alcaldia con menos delitos es:  MILPA ALTA con  204 delitos\n"
     ]
    }
   ],
   "source": [
    "print(\"La alcaldia con más delitos es: \",df_agrupado[\"delito\"].sort_values(ascending=False).index[0], \"con \",\\\n",
    "      df_agrupado[\"delito\"].sort_values(ascending=False)[0], \"delitos\")\n",
    "\n",
    "print(\"La alcaldia con menos delitos es: \",df_agrupado[\"delito\"].sort_values(ascending=False).index[15], \"con \",\\\n",
    "      df_agrupado[\"delito\"].sort_values(ascending=False)[15], \"delitos\")\n"
   ]
  },
  {
   "cell_type": "markdown",
   "metadata": {},
   "source": [
    "### 6. Dentro de cada alcaldía, cuáles son las tres colonias con más delitos"
   ]
  },
  {
   "cell_type": "markdown",
   "metadata": {},
   "source": [
    "Añadimos una columna para contar cada delito:"
   ]
  },
  {
   "cell_type": "code",
   "execution_count": 189,
   "metadata": {
    "collapsed": true
   },
   "outputs": [
    {
     "name": "stderr",
     "output_type": "stream",
     "text": [
      "<ipython-input-189-d6928caa8ef9>:1: SettingWithCopyWarning: \n",
      "A value is trying to be set on a copy of a slice from a DataFrame.\n",
      "Try using .loc[row_indexer,col_indexer] = value instead\n",
      "\n",
      "See the caveats in the documentation: https://pandas.pydata.org/pandas-docs/stable/user_guide/indexing.html#returning-a-view-versus-a-copy\n",
      "  dfcdmx[\"count\"]=1\n"
     ]
    }
   ],
   "source": [
    "dfcdmx[\"count\"]=1"
   ]
  },
  {
   "cell_type": "markdown",
   "metadata": {},
   "source": [
    "Agrupamos por \"alcaldia_hechos\" y por \"colonia_hechos\" para contar los delitos en cada colonia:"
   ]
  },
  {
   "cell_type": "code",
   "execution_count": 190,
   "metadata": {},
   "outputs": [
    {
     "data": {
      "text/plain": [
       "alcaldia_hechos         colonia_hechos                  \n",
       "ALVARO OBREGON          JARDINES DEL PEDREGAL                3508\n",
       "                        SAN ANGEL                            2750\n",
       "                        ZEDEC SANTA FE                       2658\n",
       "AZCAPOTZALCO            EL ROSARIO                           3990\n",
       "                        INDUSTRIAL VALLEJO                   2606\n",
       "                        CENTRO DE AZCAPOTZALCO               2440\n",
       "BENITO JUAREZ           DEL VALLE CENTRO                    16967\n",
       "                        NARVARTE                            12390\n",
       "                        PORTALES SUR                         6373\n",
       "COYOACAN                PEDREGAL DE SANTO DOMINGO            6672\n",
       "                        AJUSCO                               3602\n",
       "                        PEDREGAL DE SANTA URSULA             3529\n",
       "CUAJIMALPA DE MORELOS   CUAJIMALPA                           2512\n",
       "                        LOMAS DE SANTA FE                    2382\n",
       "                        SAN JOSÉ DE LOS CEDROS               1590\n",
       "CUAUHTEMOC              CENTRO                              38352\n",
       "                        DOCTORES                            22525\n",
       "                        ROMA NORTE                          14008\n",
       "GUSTAVO A MADERO        LINDAVISTA                           5057\n",
       "                        GUADALUPE TEPEYAC                    4632\n",
       "                        SAN FELIPE DE JESÚS                  3442\n",
       "IZTACALCO               AGRÍCOLA ORIENTAL                    9344\n",
       "                        AGRÍCOLA PANTITLAN                   7666\n",
       "                        GRANJAS MÉXICO                       4974\n",
       "IZTAPALAPA              CENTRAL DE ABASTO                    7743\n",
       "                        LOMAS DE SAN LORENZO                 4308\n",
       "                        DESARROLLO URBANO QUETZALCOATL       4266\n",
       "LA MAGDALENA CONTRERAS  SAN JERÓNIMO LÍDICE                  2062\n",
       "                        SAN NICOLÁS TOTOLAPAN                1549\n",
       "                        SAN BERNABÉ OCOTEPEC                 1064\n",
       "MIGUEL HIDALGO          POLANCO                              9785\n",
       "                        ANAHUAC                              5298\n",
       "                        LOMAS DE CHAPULTEPEC I SECCIÓN       4329\n",
       "MILPA ALTA              CRUZTITLA (SAN ANTONIO TECOMITL)      530\n",
       "                        SAN MIGUEL (SAN PABLO OZTOTEPEC)      498\n",
       "                        SANTA MARTHA (VILLA MILPA ALTA)       493\n",
       "TLAHUAC                 DEL MAR                              1663\n",
       "                        MIGUEL HIDALGO                       1652\n",
       "                        SAN FRANCISCO TLALTENCO              1354\n",
       "TLALPAN                 SAN ANDRÉS TOTOLTEPEC                4515\n",
       "                        HÉROES DE PADIERNA                   2575\n",
       "                        TLALPAN CENTRO I                     2425\n",
       "VENUSTIANO CARRANZA     JARDÍN BALBUENA                      6211\n",
       "                        MOCTEZUMA 2A SECCIÓN                 5117\n",
       "                        ZONA CENTRO                          4482\n",
       "XOCHIMILCO              SAN GREGORIO ATLAPULCO               2298\n",
       "                        SANTA CRUZ ACALPIXCA - PUEBLO        1854\n",
       "                        SANTIAGO TEPALCATLALPAN              1843\n",
       "Name: count, dtype: int64"
      ]
     },
     "execution_count": 190,
     "metadata": {},
     "output_type": "execute_result"
    }
   ],
   "source": [
    "tres_colonias = dfcdmx.groupby([\"alcaldia_hechos\",\"colonia_hechos\"]).agg({'count':sum})\n",
    "tres_colonias_group = tres_colonias[\"count\"].groupby(level=0, group_keys=False)\n",
    "df_tres = tres_colonias_group.apply(lambda x: x.sort_values(ascending=False).head(3))\n",
    "df_tres"
   ]
  },
  {
   "cell_type": "markdown",
   "metadata": {},
   "source": [
    "### 7. ¿Existe alguna tendencia estacional en la ocurrencia de delitos (mes, semana, día de la semana, quincenas)?"
   ]
  },
  {
   "cell_type": "code",
   "execution_count": 212,
   "metadata": {},
   "outputs": [
    {
     "data": {
      "image/png": "[encoded data removed]",
      "text/plain": [
       "<Figure size 1152x432 with 1 Axes>"
      ]
     },
     "metadata": {
      "needs_background": "light"
     },
     "output_type": "display_data"
    }
   ],
   "source": [
    "grup_mes = dfcdmx.groupby([\"mes_hechos\"]).count()[\"contador\"]\n",
    "mi_orden = [\"Enero\",\"Febrero\",\"Marzo\",\"Abril\",\"Mayo\",\"Junio\",\"Julio\",\"Agosto\",\"Septiembre\",\"Octubre\",\"Noviembre\",\"Diciembre\"]\n",
    "\n",
    "# loop para ordenar los meses de acuerdo a calendario\n",
    "\n",
    "orden = []\n",
    "for i in range(len(grup_mes)):\n",
    "    for j in range(len(mi_orden)):\n",
    "        if grup_mes.keys()[i] == mi_orden[j]:\n",
    "            orden.append([mi_orden[i],grup_mes[j]])\n",
    "\n",
    "dforden = pd.DataFrame(orden,columns=[\"grup_mes\",\"num_delitos\"])\n",
    "\n",
    "#graficamos\n",
    "dforden.plot(figsize=(16,6),marker= \"o\",color = \"black\")\n",
    "plt.title(\"Tendencia de delitos en CDMX\",fontdict ={\"fontweight\":\"bold\", \"fontsize\":15})\n",
    "plt.show()"
   ]
  },
  {
   "cell_type": "markdown",
   "metadata": {},
   "source": [
    "Los meses están indicados según:"
   ]
  },
  {
   "cell_type": "code",
   "execution_count": 210,
   "metadata": {
    "scrolled": true
   },
   "outputs": [
    {
     "data": {
      "text/plain": [
       "{'Enero': 0,\n",
       " 'Febrero': 1,\n",
       " 'Marzo': 2,\n",
       " 'Abril': 3,\n",
       " 'Mayo': 4,\n",
       " 'Junio': 5,\n",
       " 'Julio': 6,\n",
       " 'Agosto': 7,\n",
       " 'Septiembre': 8,\n",
       " 'Octubre': 9,\n",
       " 'Noviembre': 10,\n",
       " 'Diciembre': 11}"
      ]
     },
     "execution_count": 210,
     "metadata": {},
     "output_type": "execute_result"
    }
   ],
   "source": [
    "order_mes"
   ]
  },
  {
   "cell_type": "markdown",
   "metadata": {},
   "source": []
  },
  {
   "cell_type": "markdown",
   "metadata": {},
   "source": [
    "### 8. ¿Cuáles son los delitos que más caracterizan a cada alcaldía? Es decir, delitos que suceden con mayor frecuencia en una alcaldía y con menor frecuencia en las demás."
   ]
  },
  {
   "cell_type": "markdown",
   "metadata": {},
   "source": [
    "Similar al inciso 6: "
   ]
  },
  {
   "cell_type": "code",
   "execution_count": 208,
   "metadata": {},
   "outputs": [
    {
     "data": {
      "text/plain": [
       "alcaldia_hechos  delito                                              \n",
       "CUAUHTEMOC       ABANDONO DE PERSONA                                       652\n",
       "IZTAPALAPA       ABORTO                                                    105\n",
       "CUAUHTEMOC       ABUSO DE AUTORIDAD                                       1291\n",
       "IZTAPALAPA       ABUSO DE AUTORIDAD Y USO ILEGAL DE LA FUERZA PUBLICA      969\n",
       "CUAUHTEMOC       ABUSO DE CONFIANZA                                       3235\n",
       "                                                                         ...  \n",
       "                 VIOLACION TUMULTUARIA                                      27\n",
       "IZTAPALAPA       VIOLACION TUMULTUARIA EQUIPARADA                            1\n",
       "XOCHIMILCO       VIOLACION TUMULTUARIA EQUIPARADA POR CONOCIDO               1\n",
       "ALVARO OBREGON   VIOLACION Y ROBO DE VEHICULO                                1\n",
       "IZTAPALAPA       VIOLENCIA FAMILIAR                                      20734\n",
       "Name: contador, Length: 340, dtype: int64"
      ]
     },
     "execution_count": 208,
     "metadata": {},
     "output_type": "execute_result"
    }
   ],
   "source": [
    "delitos_caract = dfcdmx.groupby([\"alcaldia_hechos\",\"delito\"]).agg({'contador':sum})\n",
    "grup = delitos_caract[\"contador\"].groupby(level=1, group_keys=False)\n",
    "df_del_3 = grup.apply(lambda x: x.sort_values(ascending=False)[:1])\n",
    "df_del_3"
   ]
  },
  {
   "cell_type": "markdown",
   "metadata": {},
   "source": [
    "### 9. Calcula el número de homicidios dolosos por cada 100 mil habitantes anual para cada Área Geoestadística Básica (AGEB) del INEGI. (hint: no importa que el dato de población no esté actualizado)."
   ]
  },
  {
   "cell_type": "markdown",
   "metadata": {},
   "source": [
    "Filtramos los datos con la mascara \"categoria_delito\" == \"HOMICIDIO DOLOSO\", agrupamos por alcaldia contando el numero de delitos y calculamos la razon entre el numero de homicidios dolosos por cada 100000 habitantes:"
   ]
  },
  {
   "cell_type": "code",
   "execution_count": 216,
   "metadata": {},
   "outputs": [
    {
     "data": {
      "text/plain": [
       "alcaldia_hechos\n",
       "ALVARO OBREGON            0.00460\n",
       "AZCAPOTZALCO              0.00230\n",
       "BENITO JUAREZ             0.00119\n",
       "COYOACAN                  0.00235\n",
       "CUAJIMALPA DE MORELOS     0.00055\n",
       "CUAUHTEMOC                0.00594\n",
       "GUSTAVO A MADERO          0.01037\n",
       "IZTACALCO                 0.00233\n",
       "IZTAPALAPA                0.01410\n",
       "LA MAGDALENA CONTRERAS    0.00094\n",
       "MIGUEL HIDALGO            0.00250\n",
       "MILPA ALTA                0.00070\n",
       "TLAHUAC                   0.00281\n",
       "TLALPAN                   0.00470\n",
       "VENUSTIANO CARRANZA       0.00515\n",
       "XOCHIMILCO                0.00246\n",
       "Name: count, dtype: float64"
      ]
     },
     "execution_count": 216,
     "metadata": {},
     "output_type": "execute_result"
    }
   ],
   "source": [
    "filtro_HD = dfcdmx[dfcdmx.categoria_delito==\"HOMICIDIO DOLOSO\"]\n",
    "grup_alcaldia = filtro_HD.groupby(\"alcaldia_hechos\").count()\n",
    "\n",
    "grup_alcaldia[\"count\"]/100000\n"
   ]
  },
  {
   "cell_type": "markdown",
   "metadata": {},
   "source": [
    "### 10. ¿Cómo diseñarías un indicador que midiera el nivel “inseguridad”? Diséñalo al nivel de desagregación que te parezca más adecuado (ej. manzana, calle, AGEB, etc.)."
   ]
  },
  {
   "cell_type": "markdown",
   "metadata": {},
   "source": [
    "Por alcaldía , de acuerdo al número de delitos por mes, indicando un color para cada nivel de insegurirar. Por ejemplo, las alcaldías con mayor número de delitos indicarlos con un color rojo, le siguen los de color naranja con un nivel menor , luego de color amarillo y las alcaldías más seguras con un color verde. Esto se puede hacer implementando una variable categórica y de manera geofráfica, pintando las alcaldías de distintos colores:"
   ]
  },
  {
   "cell_type": "code",
   "execution_count": 228,
   "metadata": {},
   "outputs": [
    {
     "data": {
      "text/plain": [
       "{'ALVARO OBREGON': 4.6,\n",
       " 'AZCAPOTZALCO': 2.3,\n",
       " 'BENITO JUAREZ': 1.19,\n",
       " 'COYOACAN': 2.35,\n",
       " 'CUAJIMALPA DE MORELOS': 0.55,\n",
       " 'CUAUHTEMOC': 5.94,\n",
       " 'GUSTAVO A MADERO': 10.37,\n",
       " 'IZTACALCO': 2.33,\n",
       " 'IZTAPALAPA': 14.1,\n",
       " 'LA MAGDALENA CONTRERAS': 0.94,\n",
       " 'MIGUEL HIDALGO': 2.5,\n",
       " 'MILPA ALTA': 0.7,\n",
       " 'TLAHUAC': 2.81,\n",
       " 'TLALPAN': 4.7,\n",
       " 'VENUSTIANO CARRANZA': 5.15,\n",
       " 'XOCHIMILCO': 2.46}"
      ]
     },
     "execution_count": 228,
     "metadata": {},
     "output_type": "execute_result"
    }
   ],
   "source": [
    "razones = grup_alcaldia[\"count\"]/100\n",
    "dict1 = razones.to_dict()\n",
    "dict1 "
   ]
  },
  {
   "cell_type": "code",
   "execution_count": 229,
   "metadata": {},
   "outputs": [
    {
     "data": {
      "text/plain": [
       "3.35"
      ]
     },
     "execution_count": 229,
     "metadata": {},
     "output_type": "execute_result"
    }
   ],
   "source": [
    "maxval_dict = 14.1\n",
    "minval_dict = 0.7\n",
    "\n",
    "(maxval_dict-minval_dict)/4\n"
   ]
  },
  {
   "cell_type": "markdown",
   "metadata": {},
   "source": [
    "Por lo que los intervalos que tomamos para cada categoria miden 3.35:"
   ]
  },
  {
   "cell_type": "markdown",
   "metadata": {},
   "source": [
    "dict_categorias ={\"Verde\":r<=3.35, \"Amarillo\": r <= 6.7, \"Naranja\": r<=10.05, \"Rojo\" r >10.05}"
   ]
  },
  {
   "cell_type": "markdown",
   "metadata": {},
   "source": [
    "### 11. Con alguna de las medidas de crimen que calculaste en los incisos anteriores, encuentra patrones de concentración geográfica de delitos (hint: puedes usar algoritmos de Machine Learning no supervisados)."
   ]
  },
  {
   "cell_type": "code",
   "execution_count": null,
   "metadata": {},
   "outputs": [],
   "source": []
  },
  {
   "cell_type": "markdown",
   "metadata": {},
   "source": [
    "### 11.1 ¿Qué caracteriza a cada punto de concentración de delitos y qué tienen en común?"
   ]
  },
  {
   "cell_type": "code",
   "execution_count": null,
   "metadata": {},
   "outputs": [],
   "source": []
  },
  {
   "cell_type": "markdown",
   "metadata": {},
   "source": [
    "### 12. Toma los delitos clasificados como “Robo a pasajero a bordo de transporte público con y sin violencia”. ¿Cuáles son las ruta de transporte público donde más ocurren estos delitos?"
   ]
  },
  {
   "cell_type": "code",
   "execution_count": null,
   "metadata": {},
   "outputs": [],
   "source": []
  },
  {
   "cell_type": "code",
   "execution_count": null,
   "metadata": {},
   "outputs": [],
   "source": []
  }
 ],
 "metadata": {
  "kernelspec": {
   "display_name": "Python 3",
   "language": "python",
   "name": "python3"
  },
  "language_info": {
   "codemirror_mode": {
    "name": "ipython",
    "version": 3
   },
   "file_extension": ".py",
   "mimetype": "text/x-python",
   "name": "python",
   "nbconvert_exporter": "python",
   "pygments_lexer": "ipython3",
   "version": "3.8.5"
  }
 },
 "nbformat": 4,
 "nbformat_minor": 4
}
